{
 "cells": [
  {
   "cell_type": "markdown",
   "metadata": {},
   "source": [
    "## Crawl Ted on the English Transcription\n",
    "\n",
    "Need to add a reconnection mechanism and a page turning function"
   ]
  },
  {
   "cell_type": "code",
   "execution_count": 236,
   "metadata": {},
   "outputs": [],
   "source": [
    "import requests\n",
    "from bs4 import BeautifulSoup\n",
    "import json\n",
    "import html\n",
    "import pandas as pd\n",
    "from tqdm import tqdm"
   ]
  },
  {
   "cell_type": "code",
   "execution_count": 240,
   "metadata": {},
   "outputs": [],
   "source": [
    "def get_transcript(url):\n",
    "    response = requests.get(url)\n",
    "    soup = BeautifulSoup(response.text, 'html.parser')\n",
    "    script_tag = soup.find('script', {'type': 'application/ld+json'})\n",
    "    data = json.loads(script_tag.string)\n",
    "    return (data['name'],data['transcript'])\n",
    "def get_talk(url,type_key):\n",
    "    result = {\"type\":[],\"title\":[],\"content\":[]}\n",
    "    response = requests.get(url)\n",
    "    soup = BeautifulSoup(response.text, 'html.parser')\n",
    "    script_tag = soup.find('script', id='__NEXT_DATA__')\n",
    "    json_str = script_tag.string\n",
    "    json_data = json.loads(json_str)\n",
    "    for i in tqdm(json_data['props']['pageProps']['talks']):\n",
    "        try:\n",
    "            title,content = get_transcript(i['canonicalUrl'])\n",
    "        except:\n",
    "            print(i['canonicalUrl'])\n",
    "            continue\n",
    "        if len(content) > 5:\n",
    "            result[\"type\"].append(type_key)\n",
    "            result[\"title\"].append(title)\n",
    "            result[\"content\"].append(content)\n",
    "    return result"
   ]
  },
  {
   "cell_type": "code",
   "execution_count": 224,
   "metadata": {},
   "outputs": [],
   "source": [
    "type_keyword = 'ai'\n",
    "url = f\"\"\"https://www.ted.com/talks?sort=newest&topics[0]={type_keyword}&language=english\"\"\"\n",
    "result = get_talk(url,type_keyword)"
   ]
  },
  {
   "cell_type": "code",
   "execution_count": 241,
   "metadata": {},
   "outputs": [
    {
     "name": "stderr",
     "output_type": "stream",
     "text": [
      "100%|██████████████████████████████████████████████████████████████████████████████████| 24/24 [00:16<00:00,  1.41it/s]\n"
     ]
    },
    {
     "name": "stdout",
     "output_type": "stream",
     "text": [
      "ai：finish\n"
     ]
    },
    {
     "name": "stderr",
     "output_type": "stream",
     "text": [
      " 71%|██████████████████████████████████████████████████████████                        | 17/24 [00:31<00:48,  6.89s/it]"
     ]
    },
    {
     "name": "stdout",
     "output_type": "stream",
     "text": [
      "https://www.ted.com/talks/freada_kapor_klein_how_to_use_venture_capital_for_good\n"
     ]
    },
    {
     "name": "stderr",
     "output_type": "stream",
     "text": [
      " 83%|████████████████████████████████████████████████████████████████████▎             | 20/24 [00:34<00:11,  2.94s/it]"
     ]
    },
    {
     "name": "stdout",
     "output_type": "stream",
     "text": [
      "https://www.ted.com/talks/chezare_a_warren_the_difference_between_false_empathy_and_true_support\n"
     ]
    },
    {
     "name": "stderr",
     "output_type": "stream",
     "text": [
      "100%|██████████████████████████████████████████████████████████████████████████████████| 24/24 [00:35<00:00,  1.50s/it]"
     ]
    },
    {
     "name": "stdout",
     "output_type": "stream",
     "text": [
      "https://www.ted.com/talks/sagar_goel_an_optimist_s_take_on_reskilling_in_the_age_of_ai\n",
      "creativity：finish\n"
     ]
    },
    {
     "name": "stderr",
     "output_type": "stream",
     "text": [
      "\n",
      "100%|██████████████████████████████████████████████████████████████████████████████████| 24/24 [00:14<00:00,  1.69it/s]\n"
     ]
    },
    {
     "name": "stdout",
     "output_type": "stream",
     "text": [
      "business：finish\n"
     ]
    },
    {
     "name": "stderr",
     "output_type": "stream",
     "text": [
      " 12%|██████████▍                                                                        | 3/24 [00:01<00:07,  2.77it/s]"
     ]
    },
    {
     "name": "stdout",
     "output_type": "stream",
     "text": [
      "https://www.ted.com/talks/storybook_maze_a_street_librarian_s_quest_to_bring_books_to_everyone\n"
     ]
    },
    {
     "name": "stderr",
     "output_type": "stream",
     "text": [
      "100%|██████████████████████████████████████████████████████████████████████████████████| 24/24 [00:10<00:00,  2.20it/s]\n"
     ]
    },
    {
     "name": "stdout",
     "output_type": "stream",
     "text": [
      "collaboration：finish\n"
     ]
    },
    {
     "name": "stderr",
     "output_type": "stream",
     "text": [
      "100%|██████████████████████████████████████████████████████████████████████████████████| 24/24 [00:11<00:00,  2.01it/s]"
     ]
    },
    {
     "name": "stdout",
     "output_type": "stream",
     "text": [
      "communication：finish\n"
     ]
    },
    {
     "name": "stderr",
     "output_type": "stream",
     "text": [
      "\n"
     ]
    }
   ],
   "source": [
    "key_wrods_list = [\"ai\",\"creativity\",'business','collaboration','communication']\n",
    "df = pd.DataFrame()\n",
    "for type_keyword in key_wrods_list:\n",
    "    url = f\"\"\"https://www.ted.com/talks?sort=newest&topics[0]={type_keyword}&language=english\"\"\"\n",
    "    try:\n",
    "        result = get_talk(url,type_keyword)\n",
    "    except:\n",
    "        sleep(2)\n",
    "        print(\"error:\"+type_keyword)\n",
    "        continue\n",
    "    pre_df = pd.DataFrame(result)\n",
    "    df=pd.concat([df, pre_df], ignore_index=True)\n",
    "    print(type_keyword+\"：finish\")"
   ]
  },
  {
   "cell_type": "code",
   "execution_count": 243,
   "metadata": {},
   "outputs": [],
   "source": [
    "df.to_excel(\"Transcription_v1.0.xlsx\")"
   ]
  },
  {
   "cell_type": "code",
   "execution_count": null,
   "metadata": {},
   "outputs": [],
   "source": []
  }
 ],
 "metadata": {
  "kernelspec": {
   "display_name": "zxx",
   "language": "python",
   "name": "zxx"
  },
  "language_info": {
   "codemirror_mode": {
    "name": "ipython",
    "version": 3
   },
   "file_extension": ".py",
   "mimetype": "text/x-python",
   "name": "python",
   "nbconvert_exporter": "python",
   "pygments_lexer": "ipython3",
   "version": "3.8.15"
  }
 },
 "nbformat": 4,
 "nbformat_minor": 4
}
